{
 "cells": [
  {
   "cell_type": "code",
   "execution_count": 1,
   "id": "a626216f",
   "metadata": {},
   "outputs": [
    {
     "name": "stdout",
     "output_type": "stream",
     "text": [
      "State Wise Literacy Rate in India till 2023:\n",
      "Andaman and Nicobar islands: 86.27\n",
      "Andhra Pradesh: 66.4\n",
      "Assam: 85.9\n",
      "Bihar: 70.9\n",
      "Chandigarh: 86.43\n",
      "Chhattisgarh: 77.3\n",
      "Dadra and Nagar Haveli: 77.65\n",
      "Daman & Diu: 87.07\n",
      "Delhi: 88.7\n",
      "Goa: 87.4\n",
      "Gujarat: 82.4\n",
      "Haryana: 80.4\n",
      "Himachal Pradesh: 86.6\n",
      "Jammu & Kashmir: 77.3\n",
      "Jharkhand: 74.3\n",
      "Karnataka: 77.2\n",
      "Kerala: 96.2\n",
      "Lakshadweep: 92.28\n",
      "Madhya Pradesh: 73.7\n",
      "Maharashtra: 84.8\n",
      "Manipur: 79.85\n",
      "Meghalaya: 75.48\n",
      "Mizoram: 91.58\n",
      "Nagaland: 80.11\n",
      "Odisha: 77.3\n",
      "Puducherry: 86.55\n",
      "Punjab: 83.7\n",
      "Rajasthan: 69.7\n",
      "Sikkim: 82.2\n",
      "Tamil Nadu: 82.9\n",
      "Telangana: 72.8\n",
      "Tripura: 87.75\n",
      "Uttar Pradesh: 73.0\n",
      "Uttarakhand: 87.6\n",
      "West Bengal: 80.5\n"
     ]
    }
   ],
   "source": [
    "state_wise_literacy_rate = {\n",
    "    'Andaman and Nicobar islands': 86.27,\n",
    "    'Andhra Pradesh': 66.4,\n",
    "    'Assam': 85.9,\n",
    "    'Bihar': 70.9,\n",
    "    'Chandigarh': 86.43,\n",
    "    'Chhattisgarh': 77.3,\n",
    "    'Dadra and Nagar Haveli': 77.65,\n",
    "    'Daman & Diu': 87.07,\n",
    "    'Delhi': 88.7,\n",
    "    'Goa': 87.4,\n",
    "    'Gujarat': 82.4,\n",
    "    'Haryana': 80.4,\n",
    "    'Himachal Pradesh': 86.6,\n",
    "    'Jammu & Kashmir': 77.3,\n",
    "    'Jharkhand': 74.3,\n",
    "    'Karnataka': 77.2,\n",
    "    'Kerala': 96.2,\n",
    "    'Lakshadweep': 92.28,\n",
    "    'Madhya Pradesh': 73.7,\n",
    "    'Maharashtra': 84.8,\n",
    "    'Manipur': 79.85,\n",
    "    'Meghalaya': 75.48,\n",
    "    'Mizoram': 91.58,\n",
    "    'Nagaland': 80.11,\n",
    "    'Odisha': 77.3,\n",
    "    'Puducherry': 86.55,\n",
    "    'Punjab': 83.7,\n",
    "    'Rajasthan': 69.7,\n",
    "    'Sikkim': 82.2,\n",
    "    'Tamil Nadu': 82.9,\n",
    "    'Telangana': 72.8,\n",
    "    'Tripura': 87.75,\n",
    "    'Uttar Pradesh': 73.0,\n",
    "    'Uttarakhand': 87.6,\n",
    "    'West Bengal': 80.5\n",
    "}\n",
    "\n",
    "# Print the State Wise Literacy Rate data\n",
    "print(\"State Wise Literacy Rate in India till 2023:\")\n",
    "for state, literacy_rate in state_wise_literacy_rate.items():\n",
    "    print(f\"{state}: {literacy_rate}\")"
   ]
  },
  {
   "cell_type": "code",
   "execution_count": null,
   "id": "8e9e3955",
   "metadata": {},
   "outputs": [],
   "source": []
  }
 ],
 "metadata": {
  "kernelspec": {
   "display_name": "Python 3 (ipykernel)",
   "language": "python",
   "name": "python3"
  },
  "language_info": {
   "codemirror_mode": {
    "name": "ipython",
    "version": 3
   },
   "file_extension": ".py",
   "mimetype": "text/x-python",
   "name": "python",
   "nbconvert_exporter": "python",
   "pygments_lexer": "ipython3",
   "version": "3.10.9"
  }
 },
 "nbformat": 4,
 "nbformat_minor": 5
}
