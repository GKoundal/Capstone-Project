{
 "cells": [
  {
   "cell_type": "code",
   "execution_count": 1,
   "id": "0c9e524e",
   "metadata": {},
   "outputs": [
    {
     "name": "stdout",
     "output_type": "stream",
     "text": [
      "State-wise Population Data:\n",
      "Uttar Pradesh: 235687000\n",
      "Bihar: 126756000\n",
      "Maharashtra: 126385000\n",
      "West Bengal: 99084000\n",
      "Madhya Pradesh: 86579000\n",
      "Rajasthan: 81025000\n",
      "Tamil Nadu: 76860000\n",
      "Gujarat: 71507000\n",
      "Karnataka: 67692000\n",
      "Andhra Pradesh: 53156000\n",
      "Odisha: 46276000\n",
      "Jharkhand: 39466000\n",
      "Telangana: 38090000\n",
      "Kerala: 35776000\n",
      "Assam: 35713000\n",
      "Punjab: 30730000\n",
      "Haryana: 30209000\n",
      "Chhattisgarh: 30180000\n",
      "Delhi: 21359000\n",
      "Jammu & Kashmir: 13603000\n",
      "Uttarakhand: 11637000\n",
      "Himachal Pradesh: 7468000\n",
      "Tripura: 4147000\n",
      "Meghalaya: 3349000\n",
      "Manipur: 3223000\n",
      "Nagaland: 2233000\n",
      "Puducherry: 1646000\n",
      "Goa: 1575000\n",
      "Arunachal Pradesh: 1562000\n",
      "Dadra & Nagar Haveli and Daman & Diu: 1263000\n",
      "Mizoram: 1238000\n",
      "Chandigarh: 1231000\n",
      "Sikkim: 689000\n",
      "Andaman and Nicobar Islands: 403000\n",
      "Ladakh: 300000\n"
     ]
    }
   ],
   "source": [
    "state_population = {\n",
    "    'Uttar Pradesh': 235687000,\n",
    "    'Bihar': 126756000,\n",
    "    'Maharashtra': 126385000,\n",
    "    'West Bengal': 99084000,\n",
    "    'Madhya Pradesh': 86579000,\n",
    "    'Rajasthan': 81025000,\n",
    "    'Tamil Nadu': 76860000,\n",
    "    'Gujarat': 71507000,\n",
    "    'Karnataka': 67692000,\n",
    "    'Andhra Pradesh': 53156000,\n",
    "    'Odisha': 46276000,\n",
    "    'Jharkhand': 39466000,\n",
    "    'Telangana': 38090000,\n",
    "    'Kerala': 35776000,\n",
    "    'Assam': 35713000,\n",
    "    'Punjab': 30730000,\n",
    "    'Haryana': 30209000,\n",
    "    'Chhattisgarh': 30180000,\n",
    "    'Delhi': 21359000,\n",
    "    'Jammu & Kashmir': 13603000,\n",
    "    'Uttarakhand': 11637000,\n",
    "    'Himachal Pradesh': 7468000,\n",
    "    'Tripura': 4147000,\n",
    "    'Meghalaya': 3349000,\n",
    "    'Manipur': 3223000,\n",
    "    'Nagaland': 2233000,\n",
    "    'Puducherry': 1646000,\n",
    "    'Goa': 1575000,\n",
    "    'Arunachal Pradesh': 1562000,\n",
    "    'Dadra & Nagar Haveli and Daman & Diu': 1263000,\n",
    "    'Mizoram': 1238000,\n",
    "    'Chandigarh': 1231000,\n",
    "    'Sikkim': 689000,\n",
    "    'Andaman and Nicobar Islands': 403000,\n",
    "    'Ladakh': 300000}\n",
    "\n",
    "print(\"State-wise Population Data:\")\n",
    "for state, population in state_population.items():\n",
    "    print(f\"{state}: {population}\")"
   ]
  },
  {
   "cell_type": "code",
   "execution_count": null,
   "id": "1f7beb18",
   "metadata": {},
   "outputs": [],
   "source": []
  }
 ],
 "metadata": {
  "kernelspec": {
   "display_name": "Python 3 (ipykernel)",
   "language": "python",
   "name": "python3"
  },
  "language_info": {
   "codemirror_mode": {
    "name": "ipython",
    "version": 3
   },
   "file_extension": ".py",
   "mimetype": "text/x-python",
   "name": "python",
   "nbconvert_exporter": "python",
   "pygments_lexer": "ipython3",
   "version": "3.10.9"
  }
 },
 "nbformat": 4,
 "nbformat_minor": 5
}
